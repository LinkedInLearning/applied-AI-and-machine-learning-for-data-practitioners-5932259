{
 "cells": [
  {
   "cell_type": "markdown",
   "id": "7260a3b2",
   "metadata": {},
   "source": [
    "# Python for AI Projects"
   ]
  },
  {
   "cell_type": "markdown",
   "id": "fecbf1fa",
   "metadata": {},
   "source": [
    "## Introduction\n",
    "\n",
    "**Generative AI and Agentic AI**\n",
    "\n",
    "In this Jupyter notebook - we'll quickly setup our Python environment and see how we can run a series of Streamlit dashboards within our Google Colab workspace.\n",
    "\n",
    "### Executing Code Cells\n",
    "\n",
    "To execute each cell in this notebook - you can click on the play button on the left of each cell or hit `command/shift + enter` when you're navigating to the cell.\n",
    "\n",
    "### Setup and Installation\n",
    "\n",
    "In the following cell we'll run a few commands to install the required Python packages and also grab all of our Streamlit application code and data artefacts from our GitHub repository."
   ]
  },
  {
   "cell_type": "code",
   "execution_count": null,
   "id": "47247eb7",
   "metadata": {},
   "outputs": [],
   "source": [
    "# ====================\n",
    "# Initial setup steps\n",
    "# ====================\n",
    "\n",
    "# Install Python libraries\n",
    "!pip install --quiet faiss-cpu==1.11.0\n",
    "!pip install --quiet ctransformers==0.2.27\n",
    "!pip install --quiet dotenv==0.9.9\n",
    "\n",
    "# Clone GitHub repo into a \"data\" folder\n",
    "!git clone https://github.com/LinkedInLearning/applied-AI-and-machine-learning-for-data-practitioners-5932259.git data\n",
    "\n",
    "# Need to change directory into \"data\" to download git lfs data objects\n",
    "%cd data\n",
    "!git lfs pull\n",
    "\n",
    "# Then we need to change directory back up so all our paths are correct\n",
    "%cd .."
   ]
  },
  {
   "cell_type": "markdown",
   "id": "1b6e3f9a",
   "metadata": {},
   "source": [
    "# 1. Introduction to Streamlit\n",
    "\n",
    "Welcome to this hands-on tutorial! In this notebook, we’ll be using Streamlit, a lightweight Python framework for building interactive web dashboards and AI apps — all with minimal code.\n",
    "\n",
    "## 1.1 What is Streamlit?\n",
    "\n",
    "Streamlit lets you turn any Python script into a shareable web app using simple commands like st.write(), st.text_input(), and st.button().\n",
    "\n",
    "It's perfect for:\n",
    "\n",
    "- Visualizing data and model predictions\n",
    "- Prototyping dashboards\n",
    "- Building AI-powered tools quickly\n",
    "\n",
    "## 1.2 The Challenge in Google Colab\n",
    "\n",
    "Because Colab runs on remote virtual machines, we can’t directly access localhost ports like we would on our own computers.\n",
    "\n",
    "That means even if we run:\n",
    "\n",
    "```python\n",
    "streamlit run app.py\n",
    "```\n",
    "\n",
    "We still won't be able to visit localhost:8501 in our browser to view our application!\n",
    "\n",
    "## 1.3 Ngrok for Secure Tunnels\n",
    "\n",
    "To solve this, we’ll use Ngrok, a tool that creates a secure tunnel from the internet to your Colab machine.\n",
    "\n",
    "We’ll use the following pattern for all of our Streamlit apps in this tutorial:\n",
    "\n",
    "- Start running our Streamlit apps on port `8051` (we’ll avoid `8501` to reduce potential conflicts)\n",
    "- Use Ngrok to expose port 8051 to a public web URL\n",
    "- Visit the generated public URL to view our live dashboards"
   ]
  },
  {
   "cell_type": "markdown",
   "id": "9dff40b3",
   "metadata": {},
   "source": [
    "# 2. Pre-flight Checks\n",
    "\n",
    "We will need to setup a few secure access components before we can proceed with our Streamlit and AI agents tutorial.\n",
    "\n",
    "## 2.1 Setup Ngrok Account\n",
    "\n",
    "1. Create Ngrok account at https://dashboard.ngrok.com/signup\n",
    "2. Acquire your `AuthToken` at https://dashboard.ngrok.com/get-started/your-authtoken\n",
    "\n",
    "![ngrok-copy-auth-token](https://raw.githubusercontent.com/LinkedInLearning/applied-AI-and-machine-learning-for-data-practitioners-5932259/main/images/ngrok-copy-auth-token.png)\n",
    "\n",
    "## 2.2 Setup OpenRouter Account\n",
    "\n",
    "1. Create OpenRouter account at https://openrouter.ai/sign-up\n",
    "2. Create an API token at https://openrouter.ai/settings/keys with **read only** access and spend limit set to $0\n",
    "\n",
    "![open-router-create-api-key](https://raw.githubusercontent.com/LinkedInLearning/applied-AI-and-machine-learning-for-data-practitioners-5932259/main/images/open-router-create-api-key.png)\n",
    "\n",
    "3. Store this API key safely as you won't be able to see it again once you click away\n",
    "\n",
    "> **WARNING 🚨🚨🚨** don't be like me and share your key publicly like in this image! This example is just for illustration and I've already deleted this set of API keys on my account!!!!!!! 🥵\n",
    "\n",
    "![open-router-copy-api-key](https://raw.githubusercontent.com/LinkedInLearning/applied-AI-and-machine-learning-for-data-practitioners-5932259/main/images/open-router-copy-api-key.png)\n",
    "\n",
    "## 2.3 Streamlit Password\n",
    "\n",
    "We'll also secure our Streamlit apps by using a simple authentication password. This ensures that our publicly available URL still has a layer of authentication in-memory so only we can access it.\n",
    "\n",
    "Simply decide on a simple password for your Streamlit applications - but note that you'll need to type this when we start viewing our dashboards, so I wouldn't make it too long or complicated for a better learning experience!\n",
    "\n",
    "## 2.4 Setup Authentication\n",
    "\n",
    "Run the code cell immediately below to populate a local `.env` file with your sensitive information we setup in the previous step!\n",
    "\n",
    "Make sure you have the following ready so you can paste it in when prompted in the following cell:\n",
    "\n",
    "* Ngrok Auth Token\n",
    "* OpenRouter API Key\n",
    "* Streamlit password (remember to keep it short as we'll need to type it for every Streamlit app we run!)\n",
    "\n",
    "We’ll ask for these values securely using getpass, and store them in a local `.env` file so they’re not exposed in the notebook.\n",
    "\n",
    "> **Warning 🚨🚨🚨** Make sure to never share your Auth and API keys and be careful to avoid exposing them to the public especially when commiting files into GitHub! I've also setup a secure cleaup step to make sure we remove the `.env` file at [bottom of this notebook!](#final-steps)"
   ]
  },
  {
   "cell_type": "code",
   "execution_count": null,
   "id": "7cb81637",
   "metadata": {},
   "outputs": [],
   "source": [
    "# =========================\n",
    "# Secure .env Setup Script\n",
    "# =========================\n",
    "import getpass\n",
    "import os\n",
    "import dotenv\n",
    "\n",
    "# Step 1: Check if .env file exists\n",
    "if os.path.exists(\".env\"):\n",
    "    print(\"✅ .env file already exists!\")\n",
    "\n",
    "    # Load existing environment variables\n",
    "    dotenv.load_dotenv()\n",
    "\n",
    "    # Check each required variable individually\n",
    "    ngrok_token = os.getenv(\"NGROK_AUTH_TOKEN\")\n",
    "    if not ngrok_token:\n",
    "        ngrok_token = getpass.getpass(\"🔐 Paste your NGROK_AUTH_TOKEN: \")\n",
    "        with open(\".env\", \"a\") as f:\n",
    "            f.write(f'NGROK_AUTH_TOKEN=\"{ngrok_token}\"\\n')\n",
    "\n",
    "    openrouter_key = os.getenv(\"OPEN_ROUTER_API_KEY\")\n",
    "    if not openrouter_key:\n",
    "        openrouter_key = getpass.getpass(\"🔐 Paste your OPEN_ROUTER_API_KEY: \")\n",
    "        with open(\".env\", \"a\") as f:\n",
    "            f.write(f'OPEN_ROUTER_API_KEY=\"{openrouter_key}\"\\n')\n",
    "\n",
    "    streamlit_password = os.getenv(\"STREAMLIT_PASSWORD\")\n",
    "    if not streamlit_password:\n",
    "        password_input = getpass.getpass(\"🔐 Set your STREAMLIT_PASSWORD (press Enter to use default): \")\n",
    "        streamlit_password = password_input or \"linkedin-learning\"\n",
    "        if password_input == \"\":\n",
    "            print(f\"ℹ️ No password entered — using default: {streamlit_password}\")\n",
    "        else:\n",
    "            print(\"✅ Streamlit password set!\")\n",
    "        with open(\".env\", \"a\") as f:\n",
    "            f.write(f'STREAMLIT_PASSWORD=\"{streamlit_password}\"\\n')\n",
    "\n",
    "    print(\"✅ All required environment variables are now set!\")\n",
    "\n",
    "# Step 2: If .env does not exist, prompt for everything\n",
    "else:\n",
    "    print(\"⚙️ .env file not found — let's create one now!\")\n",
    "\n",
    "    ngrok_token = getpass.getpass(\"🔐 Paste your NGROK_AUTH_TOKEN: \")\n",
    "    openrouter_key = getpass.getpass(\"🔐 Paste your OPEN_ROUTER_API_KEY: \")\n",
    "    password_input = getpass.getpass(\"🔐 Set your STREAMLIT_PASSWORD (press Enter to use default): \")\n",
    "\n",
    "    streamlit_password = password_input or \"linkedin-learning\"\n",
    "    if password_input == \"\":\n",
    "        print(f\"ℹ️ No password entered — using default: {streamlit_password}\")\n",
    "    else:\n",
    "        print(\"✅ Streamlit password set! (hidden)\")\n",
    "\n",
    "    with open(\".env\", \"w\") as f:\n",
    "        f.write(f'NGROK_AUTH_TOKEN=\"{ngrok_token}\"\\n')\n",
    "        f.write(f'OPEN_ROUTER_API_KEY=\"{openrouter_key}\"\\n')\n",
    "        f.write(f'STREAMLIT_PASSWORD=\"{streamlit_password}\"\\n')\n",
    "\n",
    "    print(\"✅ .env file created securely!\")\n",
    "    \n",
    "# Finally - load in the newly created environment variables\n",
    "dotenv.load_dotenv()\n",
    "print(\"✅ Latest .env file successfully loaded!\")"
   ]
  },
  {
   "cell_type": "markdown",
   "id": "9b19c6d8",
   "metadata": {},
   "source": [
    "# 3. Streamlit Hello World App\n",
    "\n",
    "In the next cell, we’ll demonstrate how to run a basic Streamlit app to help verify everything is working smoothly before we dive deeper into our GenAI Streamlit applications"
   ]
  },
  {
   "cell_type": "code",
   "execution_count": null,
   "id": "77b0498a",
   "metadata": {},
   "outputs": [],
   "source": [
    "# Placeholder for Hello World app"
   ]
  },
  {
   "cell_type": "markdown",
   "id": "b3e2ce2c",
   "metadata": {},
   "source": [
    "# 4. Pure Python LLM App\n",
    "\n",
    "In the next cell - we'll run a Streamlit app which details a simple `Retrieval-Augmented-Generation` (RAG) pipeline using pure Python only.\n",
    "\n",
    "This will help us set the stage before we start applying higher-level abstractions using the `LangChain` and `LangGraph` frameworks to modularize our application.\n",
    "\n",
    "**Placeholder for Exclalidraw diagram**"
   ]
  },
  {
   "cell_type": "code",
   "execution_count": null,
   "id": "faa225bf",
   "metadata": {},
   "outputs": [],
   "source": [
    "# Placeholder for pure Python app"
   ]
  },
  {
   "cell_type": "markdown",
   "id": "7a791a1a",
   "metadata": {},
   "source": [
    "# 5. LangChain App\n",
    "\n",
    "In the next cell - we'll run a Streamlit app which extends our pure Python app by replacing certain components using `LangChain`\n",
    "\n",
    "**Placeholder for Exclalidraw diagram**"
   ]
  },
  {
   "cell_type": "code",
   "execution_count": null,
   "id": "e6fc9f7d",
   "metadata": {},
   "outputs": [],
   "source": [
    "# Placeholder for LangChain app"
   ]
  },
  {
   "cell_type": "markdown",
   "id": "8e64001e",
   "metadata": {},
   "source": [
    "# 5. LangGraph Agentic AI\n",
    "\n",
    "In the next cell - we'll run a Streamlit app which further extends upon our static AI workflows using `LangChain` to an autonomous agentic AI framework using `LangGraph`\n",
    "\n",
    "**Placeholder for Exclalidraw diagram**"
   ]
  },
  {
   "cell_type": "code",
   "execution_count": null,
   "id": "4a056858",
   "metadata": {},
   "outputs": [],
   "source": [
    "# Placeholder for LangGraph app"
   ]
  },
  {
   "cell_type": "code",
   "execution_count": null,
   "id": "61d936e7",
   "metadata": {},
   "outputs": [],
   "source": [
    "# Cleanup - kill any ngrok tunnels and delete sensitive .env file\n",
    "import os\n",
    "import dotenv\n",
    "from pyngrok import ngrok\n",
    "\n",
    "if os.path.exists(\".env\"):\n",
    "    \n",
    "    # Load environment variables from .env file\n",
    "    dotenv.load_dotenv()\n",
    "\n",
    "    # Check if NGROK_AUTH_TOKEN is set and stop any existing tunnels\n",
    "    if os.getenv(\"NGROK_AUTH_TOKEN\"):\n",
    "        ngrok.set_auth_token(os.getenv(\"NGROK_AUTH_TOKEN\"))\n",
    "\n",
    "        # Stop any existing Ngrok tunnels\n",
    "        ngrok.kill()\n",
    "        print(\"✅ Ngrok tunnels stopped.\")\n",
    "    \n",
    "    # Remove the .env file\n",
    "    os.remove(\".env\")\n",
    "    print(\"✅ .env file removed safely.\")"
   ]
  }
 ],
 "metadata": {
  "language_info": {
   "name": "python"
  }
 },
 "nbformat": 4,
 "nbformat_minor": 5
}
